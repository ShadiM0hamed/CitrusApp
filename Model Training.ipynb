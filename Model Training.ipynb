{
 "cells": [
  {
   "cell_type": "markdown",
   "metadata": {},
   "source": [
    "# Citrus Disease Classification"
   ]
  },
  {
   "cell_type": "markdown",
   "metadata": {},
   "source": [
    "> ### Importing Libraries"
   ]
  },
  {
   "cell_type": "code",
   "execution_count": null,
   "metadata": {},
   "outputs": [],
   "source": [
    "import tensorflow as tf\n",
    "from tensorflow import keras\n",
    "from tensorflow.keras import layers\n",
    "from keras.preprocessing.image import ImageDataGenerator\n",
    "import cv2\n",
    "from sklearn.model_selection import train_test_split\n",
    "import pandas as pd\n",
    "import pathlib\n"
   ]
  },
  {
   "cell_type": "markdown",
   "metadata": {},
   "source": [
    "> ### Checking GPUs Available"
   ]
  },
  {
   "cell_type": "code",
   "execution_count": null,
   "metadata": {},
   "outputs": [],
   "source": [
    "\n",
    "print(\"Num GPUs Available: \", len(tf.config.list_physical_devices('GPU')))"
   ]
  },
  {
   "cell_type": "markdown",
   "metadata": {},
   "source": [
    "> ### Creating training and testing dataframes for training"
   ]
  },
  {
   "cell_type": "code",
   "execution_count": null,
   "metadata": {},
   "outputs": [],
   "source": [
    "# Define the path to the dataset\n",
    "data_dir = '/kaggle/input/orange-leaf-disease-dataset/train/train'\n",
    "data_dir = pathlib.Path(data_dir)\n",
    "\n",
    "# Create a dictionary of class labels and corresponding image paths\n",
    "objects = {\n",
    "    'Citrus_Canker': list(data_dir.glob('Citrus_Canker_Diseases_Leaf_Orange/*')),\n",
    "    'Nutrient_Deficiency': list(data_dir.glob('Citrus_Nutrient_Deficiency_Yellow_Leaf_Orange/*')),\n",
    "    'Healthy_Leaf_Orange': list(data_dir.glob('Healthy_Leaf_Orange/*')),\n",
    "    'Multiple_Diseases': list(data_dir.glob('Multiple_Diseases_Leaf_Orange/*')),\n",
    "    'Young_Healthy': list(data_dir.glob('Young_Healthy_Leaf_Orange/*'))\n",
    "}\n",
    "\n",
    "# Define the class labels\n",
    "objects_labels = {\n",
    "    'Citrus_Canker': 0,\n",
    "    'Nutrient_Deficiency': 1,\n",
    "    'Healthy_Leaf_Orange': 2,\n",
    "    'Multiple_Diseases': 3,\n",
    "    'Young_Healthy': 4\n",
    "}\n",
    "\n",
    "# Create lists to store the image paths and labels\n",
    "image_paths, y = [], []\n",
    "\n",
    "# Collect the image paths and labels\n",
    "for name, images in objects.items():\n",
    "    for image in images:\n",
    "        image_paths.append(str(image))\n",
    "        y.append(objects_labels[name])\n",
    "\n",
    "# Split the data into training and testing sets\n",
    "image_paths_train, image_paths_test, y_train, y_test = train_test_split(image_paths, y, test_size=0.1, random_state=0)\n",
    "\n",
    "\n",
    "\n",
    "\n",
    "\n",
    "# Create a DataFrame to store image paths and labels\n",
    "train_df = pd.DataFrame({'image_path': image_paths_train, 'label': y_train})\n",
    "test_df = pd.DataFrame({'image_path': image_paths_test, 'label': y_test})\n"
   ]
  },
  {
   "cell_type": "markdown",
   "metadata": {},
   "source": [
    "> ### Data Augmentation"
   ]
  },
  {
   "cell_type": "code",
   "execution_count": null,
   "metadata": {},
   "outputs": [],
   "source": [
    "# Create data generators for training and testing\n",
    "train_datagen = ImageDataGenerator(\n",
    "    rescale=1./255,  # Scale to [0, 1]\n",
    "    rotation_range=20,\n",
    "    width_shift_range=0.2,\n",
    "    height_shift_range=0.2,\n",
    "    shear_range=0.2,\n",
    "    zoom_range=0.2,\n",
    "    horizontal_flip=True\n",
    ")\n",
    "\n",
    "test_datagen = ImageDataGenerator(rescale=1./255)  # Scale to [0, 1]\n",
    "\n",
    "# Set batch size and number of classes\n",
    "batch_size = 32\n",
    "num_classes = 5\n",
    "\n",
    "# Create data iterators for training and testing\n",
    "train_iterator = train_datagen.flow_from_dataframe(\n",
    "    dataframe=train_df,\n",
    "    x_col='image_path',\n",
    "    y_col='label',\n",
    "    target_size=(64, 64),\n",
    "    batch_size=batch_size,\n",
    "    class_mode='raw',\n",
    "    shuffle=True\n",
    ")\n",
    "\n",
    "test_iterator = test_datagen.flow_from_dataframe(\n",
    "    dataframe=test_df,\n",
    "    x_col='image_path',\n",
    "    y_col='label',\n",
    "    target_size=(64, 64),\n",
    "    batch_size=batch_size,\n",
    "    class_mode='raw',\n",
    "    shuffle=False\n",
    ")\n"
   ]
  },
  {
   "cell_type": "markdown",
   "metadata": {},
   "source": [
    "> ### Building the deep learning model"
   ]
  },
  {
   "cell_type": "code",
   "execution_count": null,
   "metadata": {},
   "outputs": [],
   "source": [
    "# Build the CNN model\n",
    "model = keras.Sequential([\n",
    "    layers.Conv2D(32, (3, 3), padding='same', activation='relu', input_shape=(64, 64, 3)),\n",
    "    layers.MaxPooling2D(pool_size=(2, 2)),\n",
    "    # Add more layers as needed\n",
    "    layers.Flatten(),\n",
    "    layers.Dense(32, activation='relu'),\n",
    "    layers.Dropout(0.25),\n",
    "    layers.Dense(num_classes, activation='softmax')\n",
    "])\n",
    "\n",
    "# Compile the model\n",
    "model.compile(\n",
    "    optimizer='adam',\n",
    "    loss='sparse_categorical_crossentropy',\n",
    "    metrics=['accuracy']\n",
    ")\n",
    "\n",
    "# Training the model\n",
    "epochs = 100\n",
    "model.fit(\n",
    "    train_iterator,\n",
    "    steps_per_epoch=len(train_df) // batch_size,\n",
    "    epochs=epochs\n",
    ")\n",
    "\n",
    "# Evaluate the model on the test set\n",
    "model.evaluate(\n",
    "    test_iterator,\n",
    "    steps=len(test_df) // batch_size\n",
    ")\n",
    "\n"
   ]
  },
  {
   "cell_type": "markdown",
   "metadata": {},
   "source": [
    "> ### Saving the model and exporting it to an H5 File"
   ]
  },
  {
   "cell_type": "code",
   "execution_count": null,
   "metadata": {},
   "outputs": [],
   "source": [
    "# Save the model\n",
    "model.save('lung_cancer_classification_model.h5')"
   ]
  }
 ],
 "metadata": {
  "language_info": {
   "name": "python"
  },
  "orig_nbformat": 4
 },
 "nbformat": 4,
 "nbformat_minor": 2
}
